{
 "cells": [
  {
   "cell_type": "code",
   "execution_count": 1,
   "id": "fab9bed2",
   "metadata": {},
   "outputs": [],
   "source": [
    "import sys\n",
    "import traceback\n"
   ]
  },
  {
   "cell_type": "code",
   "execution_count": 2,
   "id": "1e41d88a",
   "metadata": {},
   "outputs": [
    {
     "name": "stdout",
     "output_type": "stream",
     "text": [
      "ERROR! Session/line number was not unique in database. History logging moved to new session 36\n"
     ]
    },
    {
     "ename": "DocumentPortalException",
     "evalue": "\n        Error occurred in script: C:\\Users\\user\\AppData\\Local\\Temp\\ipykernel_36408\\65548408.py at line number: 18\n        Error message: division by zero",
     "output_type": "error",
     "traceback": [
      "\u001b[31m---------------------------------------------------------------------------\u001b[39m",
      "\u001b[31mZeroDivisionError\u001b[39m                         Traceback (most recent call last)",
      "\u001b[36mCell\u001b[39m\u001b[36m \u001b[39m\u001b[32mIn[2]\u001b[39m\u001b[32m, line 18\u001b[39m\n\u001b[32m     17\u001b[39m \u001b[38;5;28;01mtry\u001b[39;00m:\n\u001b[32m---> \u001b[39m\u001b[32m18\u001b[39m     a = \u001b[32;43m1\u001b[39;49m\u001b[43m \u001b[49m\u001b[43m/\u001b[49m\u001b[43m \u001b[49m\u001b[32;43m0\u001b[39;49m\n\u001b[32m     19\u001b[39m \u001b[38;5;28;01mexcept\u001b[39;00m \u001b[38;5;167;01mException\u001b[39;00m \u001b[38;5;28;01mas\u001b[39;00m e:\n",
      "\u001b[31mZeroDivisionError\u001b[39m: division by zero",
      "\nDuring handling of the above exception, another exception occurred:\n",
      "\u001b[31mDocumentPortalException\u001b[39m                   Traceback (most recent call last)",
      "\u001b[36mCell\u001b[39m\u001b[36m \u001b[39m\u001b[32mIn[2]\u001b[39m\u001b[32m, line 21\u001b[39m\n\u001b[32m     18\u001b[39m     a = \u001b[32m1\u001b[39m / \u001b[32m0\u001b[39m\n\u001b[32m     19\u001b[39m \u001b[38;5;28;01mexcept\u001b[39;00m \u001b[38;5;167;01mException\u001b[39;00m \u001b[38;5;28;01mas\u001b[39;00m e:\n\u001b[32m---> \u001b[39m\u001b[32m21\u001b[39m     \u001b[38;5;28;01mraise\u001b[39;00m DocumentPortalException(e, sys)\n",
      "\u001b[31mDocumentPortalException\u001b[39m: \n        Error occurred in script: C:\\Users\\user\\AppData\\Local\\Temp\\ipykernel_36408\\65548408.py at line number: 18\n        Error message: division by zero"
     ]
    }
   ],
   "source": [
    "class DocumentPortalException(Exception):\n",
    "\n",
    "    def __init__(self, error_message:str, error_details:sys):\n",
    "        _,_,exc_traceback = error_details.exc_info()\n",
    "        self.file_name = exc_traceback.tb_frame.f_code.co_filename\n",
    "        self.line_number = exc_traceback.tb_lineno\n",
    "        self.error_message = str(error_message)\n",
    "        self.traceback_str = ''.join(traceback.format_exception(*error_details.exc_info()))\n",
    "\n",
    "\n",
    "    def __str__(self):\n",
    "        return f\"\"\"\n",
    "        Error occurred in script: {self.file_name} at line number: {self.line_number}\n",
    "        Error message: {self.error_message}\"\"\"\n",
    "\n",
    "if __name__ == \"__main__\":\n",
    "    try:\n",
    "        a = 1 / 0\n",
    "    except Exception as e:\n",
    "        \n",
    "        raise DocumentPortalException(e, sys)"
   ]
  },
  {
   "cell_type": "code",
   "execution_count": null,
   "id": "4c3ecba7",
   "metadata": {},
   "outputs": [],
   "source": []
  }
 ],
 "metadata": {
  "kernelspec": {
   "display_name": "document-portal",
   "language": "python",
   "name": "python3"
  },
  "language_info": {
   "codemirror_mode": {
    "name": "ipython",
    "version": 3
   },
   "file_extension": ".py",
   "mimetype": "text/x-python",
   "name": "python",
   "nbconvert_exporter": "python",
   "pygments_lexer": "ipython3",
   "version": "3.12.11"
  }
 },
 "nbformat": 4,
 "nbformat_minor": 5
}
