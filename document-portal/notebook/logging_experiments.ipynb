{
 "cells": [
  {
   "cell_type": "code",
   "execution_count": 4,
   "id": "4bace133",
   "metadata": {},
   "outputs": [],
   "source": [
    "import os\n",
    "from datetime import datetime\n",
    "import logging\n"
   ]
  },
  {
   "cell_type": "code",
   "execution_count": 2,
   "id": "9f8c7ac1",
   "metadata": {},
   "outputs": [],
   "source": [
    "logs_dir = os.path.join(os.getcwd(), 'logs')\n",
    "if not os.path.exists(logs_dir):\n",
    "    os.makedirs(logs_dir)\n"
   ]
  },
  {
   "cell_type": "code",
   "execution_count": 7,
   "id": "91004e62",
   "metadata": {},
   "outputs": [
    {
     "data": {
      "text/plain": [
       "'c:\\\\Users\\\\user\\\\OneDrive\\\\Documents\\\\svadhyaya\\\\Krish-Naik-Academy\\\\LLMOps\\\\LLMOps_projects\\\\document-portal\\\\notebook\\\\logs\\\\app_2025_07_26_14_45_34.log'"
      ]
     },
     "execution_count": 7,
     "metadata": {},
     "output_type": "execute_result"
    }
   ],
   "source": [
    "LOG_FILE_PATH = os.path.join(logs_dir, f\"app_{datetime.now().strftime('%Y_%m_%d_%H_%M_%S')}.log\")\n",
    "LOG_FILE_PATH"
   ]
  },
  {
   "cell_type": "code",
   "execution_count": 11,
   "id": "b6aeefd8",
   "metadata": {},
   "outputs": [],
   "source": [
    "logging.basicConfig(\n",
    "    filename=LOG_FILE_PATH,\n",
    "    format=\"[ %(asctime)s ] %(levelname)s %(name)s (line:%(lineno)d) - %(message)s\",\n",
    "    level=logging.INFO,\n",
    ")"
   ]
  },
  {
   "cell_type": "code",
   "execution_count": 12,
   "id": "61b4d3ad",
   "metadata": {},
   "outputs": [],
   "source": [
    "logger = logging.getLogger(\"DocumentPortal\")"
   ]
  },
  {
   "cell_type": "code",
   "execution_count": 13,
   "id": "0142cfa5",
   "metadata": {},
   "outputs": [],
   "source": [
    "logger.info(\"This is an info message.\")"
   ]
  }
 ],
 "metadata": {
  "kernelspec": {
   "display_name": "document-portal",
   "language": "python",
   "name": "python3"
  },
  "language_info": {
   "codemirror_mode": {
    "name": "ipython",
    "version": 3
   },
   "file_extension": ".py",
   "mimetype": "text/x-python",
   "name": "python",
   "nbconvert_exporter": "python",
   "pygments_lexer": "ipython3",
   "version": "3.12.11"
  }
 },
 "nbformat": 4,
 "nbformat_minor": 5
}
